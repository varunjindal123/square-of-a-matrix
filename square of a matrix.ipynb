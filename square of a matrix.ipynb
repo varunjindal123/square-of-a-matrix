{
 "cells": [
  {
   "cell_type": "code",
   "execution_count": 1,
   "metadata": {},
   "outputs": [
    {
     "name": "stdout",
     "output_type": "stream",
     "text": [
      "3\n",
      "3\n",
      "1\n",
      "2\n",
      "3\n",
      "4\n",
      "5\n",
      "6\n",
      "7\n",
      "8\n",
      "9\n",
      "[1, 2, 3]\n",
      "[4, 5, 6]\n",
      "[7, 8, 9]\n",
      "\n",
      "Square of Matrix is :\n",
      "\n",
      "[30, 36, 42]\n",
      "[66, 81, 96]\n",
      "[102, 126, 150]\n"
     ]
    }
   ],
   "source": [
    "row=int(input())\n",
    "col=int(input())\n",
    "mat=[]\n",
    "sqmat=[]\n",
    "for i in range(row):\n",
    "    a=[]\n",
    "    for j in range(col):\n",
    "        a.append(int(input()))\n",
    "    mat.append(a)    \n",
    "for i in mat:\n",
    "    print(i)    \n",
    "print(\"\\nSquare of Matrix is :\\n\")\n",
    "if row==col:\n",
    "    for i in range(row):\n",
    "        a=[]\n",
    "        for k in range(col):\n",
    "            s=0\n",
    "            for j in range(row):\n",
    "                s+=(mat[i][j]*mat[j][k])\n",
    "            a.append(s)\n",
    "        sqmat.append(a)          \n",
    "    for i in sqmat:\n",
    "        print(i)\n",
    "else:\n",
    "    print(\"multiplication of matrix no possible\")"
   ]
  },
  {
   "cell_type": "markdown",
   "metadata": {},
   "source": []
  },
  {
   "cell_type": "code",
   "execution_count": null,
   "metadata": {},
   "outputs": [],
   "source": []
  },
  {
   "cell_type": "code",
   "execution_count": null,
   "metadata": {},
   "outputs": [],
   "source": []
  },
  {
   "cell_type": "code",
   "execution_count": null,
   "metadata": {},
   "outputs": [],
   "source": []
  }
 ],
 "metadata": {
  "kernelspec": {
   "display_name": "Python 3",
   "language": "python",
   "name": "python3"
  },
  "language_info": {
   "codemirror_mode": {
    "name": "ipython",
    "version": 3
   },
   "file_extension": ".py",
   "mimetype": "text/x-python",
   "name": "python",
   "nbconvert_exporter": "python",
   "pygments_lexer": "ipython3",
   "version": "3.8.3"
  }
 },
 "nbformat": 4,
 "nbformat_minor": 4
}
